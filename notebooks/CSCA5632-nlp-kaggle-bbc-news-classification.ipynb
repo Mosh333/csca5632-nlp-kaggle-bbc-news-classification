{
 "cells": [
  {
   "cell_type": "markdown",
   "id": "edbd5e86",
   "metadata": {},
   "source": [
    "# CSCA 5632 Assignment #4 - NLP Kaggle BBC News Classification Mini Projecy\n",
    "### By Moshiur Howlader\n",
    "##### Github Link : https://github.com/Mosh333/csca5632-nlp-kaggle-bbc-news-classification"
   ]
  }
 ],
 "metadata": {
  "language_info": {
   "name": "python"
  }
 },
 "nbformat": 4,
 "nbformat_minor": 5
}
